{
  "nbformat": 4,
  "nbformat_minor": 0,
  "metadata": {
    "colab": {
      "name": "test1.ipynb",
      "provenance": [],
      "collapsed_sections": [],
      "authorship_tag": "ABX9TyO1Z3CTXtM4E/RqQBn8NeFz",
      "include_colab_link": true
    },
    "kernelspec": {
      "name": "python3",
      "display_name": "Python 3"
    }
  },
  "cells": [
    {
      "cell_type": "markdown",
      "metadata": {
        "id": "view-in-github",
        "colab_type": "text"
      },
      "source": [
        "<a href=\"https://colab.research.google.com/github/tohshima/AIreveresistudy/blob/main/test1.ipynb\" target=\"_parent\"><img src=\"https://colab.research.google.com/assets/colab-badge.svg\" alt=\"Open In Colab\"/></a>"
      ]
    },
    {
      "cell_type": "code",
      "metadata": {
        "id": "5qwoHGTcD7Gf",
        "outputId": "3ff57a55-9826-436c-df8e-faa3ae734492",
        "colab": {
          "base_uri": "https://localhost:8080/",
          "height": 105
        }
      },
      "source": [
        "!pip install https://github.com/TadaoYamaoka/creversi/releases/download/v0.0.0/creversi-0.0.0-cp36-cp36m-linux_x86_64.whl"
      ],
      "execution_count": 3,
      "outputs": [
        {
          "output_type": "stream",
          "text": [
            "Collecting creversi==0.0.0\n",
            "\u001b[?25l  Downloading https://github.com/TadaoYamaoka/creversi/releases/download/v0.0.0/creversi-0.0.0-cp36-cp36m-linux_x86_64.whl (724kB)\n",
            "\u001b[K     |████████████████████████████████| 727kB 3.8MB/s \n",
            "\u001b[?25hInstalling collected packages: creversi\n",
            "Successfully installed creversi-0.0.0\n"
          ],
          "name": "stdout"
        }
      ]
    },
    {
      "cell_type": "markdown",
      "metadata": {
        "id": "SERTsK-RGxha"
      },
      "source": [
        "2.3"
      ]
    },
    {
      "cell_type": "code",
      "metadata": {
        "id": "0sMpRnPRGtcp",
        "outputId": "139fbf5e-c923-408e-d694-4d785779b229",
        "colab": {
          "base_uri": "https://localhost:8080/",
          "height": 236
        }
      },
      "source": [
        "import creversi\n",
        "\n",
        "board = creversi.Board()\n",
        "board"
      ],
      "execution_count": 4,
      "outputs": [
        {
          "output_type": "execute_result",
          "data": {
            "text/plain": [
              " |abcdefgh\n",
              "-+--------\n",
              "1|........\n",
              "2|........\n",
              "3|........\n",
              "4|...ox...\n",
              "5|...xo...\n",
              "6|........\n",
              "7|........\n",
              "8|........"
            ],
            "image/svg+xml": "<svg height=\"215.0\" version=\"1.1\" viewBox=\"0 0 172 172\" width=\"215.0\" xmlns=\"http://www.w3.org/2000/svg\" xmlns:xlink=\"http://www.w3.org/1999/xlink\"><defs><g id=\"black\"><circle cx=\"10\" cy=\"10\" fill=\"black\" r=\"8.5\" /></g><g id=\"white\"><circle cx=\"10\" cy=\"10\" fill=\"white\" r=\"8.5\" /></g></defs><rect fill=\"green\" height=\"161\" width=\"161\" x=\"10\" y=\"10\" /><g stroke=\"black\"><rect fill=\"none\" height=\"161\" stroke-width=\"1.5\" width=\"161\" x=\"10\" y=\"10\" /><line stroke-width=\"1.0\" x1=\"10.5\" x2=\"170.5\" y1=\"30.5\" y2=\"30.5\" /><line stroke-width=\"1.0\" x1=\"10.5\" x2=\"170.5\" y1=\"50.5\" y2=\"50.5\" /><line stroke-width=\"1.0\" x1=\"10.5\" x2=\"170.5\" y1=\"70.5\" y2=\"70.5\" /><line stroke-width=\"1.0\" x1=\"10.5\" x2=\"170.5\" y1=\"90.5\" y2=\"90.5\" /><line stroke-width=\"1.0\" x1=\"10.5\" x2=\"170.5\" y1=\"110.5\" y2=\"110.5\" /><line stroke-width=\"1.0\" x1=\"10.5\" x2=\"170.5\" y1=\"130.5\" y2=\"130.5\" /><line stroke-width=\"1.0\" x1=\"10.5\" x2=\"170.5\" y1=\"150.5\" y2=\"150.5\" /><line stroke-width=\"1.0\" x1=\"30.5\" x2=\"30.5\" y1=\"10.5\" y2=\"170.5\" /><line stroke-width=\"1.0\" x1=\"50.5\" x2=\"50.5\" y1=\"10.5\" y2=\"170.5\" /><line stroke-width=\"1.0\" x1=\"70.5\" x2=\"70.5\" y1=\"10.5\" y2=\"170.5\" /><line stroke-width=\"1.0\" x1=\"90.5\" x2=\"90.5\" y1=\"10.5\" y2=\"170.5\" /><line stroke-width=\"1.0\" x1=\"110.5\" x2=\"110.5\" y1=\"10.5\" y2=\"170.5\" /><line stroke-width=\"1.0\" x1=\"130.5\" x2=\"130.5\" y1=\"10.5\" y2=\"170.5\" /><line stroke-width=\"1.0\" x1=\"150.5\" x2=\"150.5\" y1=\"10.5\" y2=\"170.5\" /></g><g><text font-family=\"serif\" font-size=\"9.5\" text-anchor=\"middle\" x=\"20.5\" y=\"8\">a</text><text font-family=\"serif\" font-size=\"9.5\" text-anchor=\"middle\" x=\"40.5\" y=\"8\">b</text><text font-family=\"serif\" font-size=\"9.5\" text-anchor=\"middle\" x=\"60.5\" y=\"8\">c</text><text font-family=\"serif\" font-size=\"9.5\" text-anchor=\"middle\" x=\"80.5\" y=\"8\">d</text><text font-family=\"serif\" font-size=\"9.5\" text-anchor=\"middle\" x=\"100.5\" y=\"8\">e</text><text font-family=\"serif\" font-size=\"9.5\" text-anchor=\"middle\" x=\"120.5\" y=\"8\">f</text><text font-family=\"serif\" font-size=\"9.5\" text-anchor=\"middle\" x=\"140.5\" y=\"8\">g</text><text font-family=\"serif\" font-size=\"9.5\" text-anchor=\"middle\" x=\"160.5\" y=\"8\">h</text><text font-family=\"serif\" font-size=\"9.5\" x=\"2.5\" y=\"23.5\">1</text><text font-family=\"serif\" font-size=\"9.5\" x=\"2.5\" y=\"43.5\">2</text><text font-family=\"serif\" font-size=\"9.5\" x=\"2.5\" y=\"63.5\">3</text><text font-family=\"serif\" font-size=\"9.5\" x=\"2.5\" y=\"83.5\">4</text><text font-family=\"serif\" font-size=\"9.5\" x=\"2.5\" y=\"103.5\">5</text><text font-family=\"serif\" font-size=\"9.5\" x=\"2.5\" y=\"123.5\">6</text><text font-family=\"serif\" font-size=\"9.5\" x=\"2.5\" y=\"143.5\">7</text><text font-family=\"serif\" font-size=\"9.5\" x=\"2.5\" y=\"163.5\">8</text></g><use x=\"70.5\" xlink:href=\"#white\" y=\"70.5\" /><use x=\"90.5\" xlink:href=\"#black\" y=\"70.5\" /><use x=\"70.5\" xlink:href=\"#black\" y=\"90.5\" /><use x=\"90.5\" xlink:href=\"#white\" y=\"90.5\" /></svg>"
          },
          "metadata": {
            "tags": []
          },
          "execution_count": 4
        }
      ]
    },
    {
      "cell_type": "markdown",
      "metadata": {
        "id": "-vKSpkOGfiwE"
      },
      "source": [
        "2.3.3"
      ]
    },
    {
      "cell_type": "code",
      "metadata": {
        "id": "Q6WxeHjsf0rW",
        "outputId": "3a546883-beee-43fb-be5c-b6b7531f30a9",
        "colab": {
          "base_uri": "https://localhost:8080/",
          "height": 34
        }
      },
      "source": [
        "move = creversi.move_from_str('c3')\n",
        "board.move(move)\n",
        "board\n",
        "board.is_legal(move)"
      ],
      "execution_count": 8,
      "outputs": [
        {
          "output_type": "execute_result",
          "data": {
            "text/plain": [
              "False"
            ]
          },
          "metadata": {
            "tags": []
          },
          "execution_count": 8
        }
      ]
    },
    {
      "cell_type": "code",
      "metadata": {
        "id": "AFkv9LNjf1wq",
        "outputId": "11c36bea-977a-4f6e-b927-aade78f7b1ca",
        "colab": {
          "base_uri": "https://localhost:8080/",
          "height": 306
        }
      },
      "source": [
        "board = creversi.Board()\n",
        "board\n",
        "for move in board.legal_moves:\n",
        "  print(creversi.move_to_str(move))\n",
        "board.move(creversi.move_from_str('d3'))\n",
        "board"
      ],
      "execution_count": 21,
      "outputs": [
        {
          "output_type": "stream",
          "text": [
            "d3\n",
            "c4\n",
            "f5\n",
            "e6\n"
          ],
          "name": "stdout"
        },
        {
          "output_type": "execute_result",
          "data": {
            "text/plain": [
              " |abcdefgh\n",
              "-+--------\n",
              "1|........\n",
              "2|........\n",
              "3|...x....\n",
              "4|...xx...\n",
              "5|...xo...\n",
              "6|........\n",
              "7|........\n",
              "8|........"
            ],
            "image/svg+xml": "<svg height=\"215.0\" version=\"1.1\" viewBox=\"0 0 172 172\" width=\"215.0\" xmlns=\"http://www.w3.org/2000/svg\" xmlns:xlink=\"http://www.w3.org/1999/xlink\"><defs><g id=\"black\"><circle cx=\"10\" cy=\"10\" fill=\"black\" r=\"8.5\" /></g><g id=\"white\"><circle cx=\"10\" cy=\"10\" fill=\"white\" r=\"8.5\" /></g></defs><rect fill=\"green\" height=\"161\" width=\"161\" x=\"10\" y=\"10\" /><g stroke=\"black\"><rect fill=\"none\" height=\"161\" stroke-width=\"1.5\" width=\"161\" x=\"10\" y=\"10\" /><line stroke-width=\"1.0\" x1=\"10.5\" x2=\"170.5\" y1=\"30.5\" y2=\"30.5\" /><line stroke-width=\"1.0\" x1=\"10.5\" x2=\"170.5\" y1=\"50.5\" y2=\"50.5\" /><line stroke-width=\"1.0\" x1=\"10.5\" x2=\"170.5\" y1=\"70.5\" y2=\"70.5\" /><line stroke-width=\"1.0\" x1=\"10.5\" x2=\"170.5\" y1=\"90.5\" y2=\"90.5\" /><line stroke-width=\"1.0\" x1=\"10.5\" x2=\"170.5\" y1=\"110.5\" y2=\"110.5\" /><line stroke-width=\"1.0\" x1=\"10.5\" x2=\"170.5\" y1=\"130.5\" y2=\"130.5\" /><line stroke-width=\"1.0\" x1=\"10.5\" x2=\"170.5\" y1=\"150.5\" y2=\"150.5\" /><line stroke-width=\"1.0\" x1=\"30.5\" x2=\"30.5\" y1=\"10.5\" y2=\"170.5\" /><line stroke-width=\"1.0\" x1=\"50.5\" x2=\"50.5\" y1=\"10.5\" y2=\"170.5\" /><line stroke-width=\"1.0\" x1=\"70.5\" x2=\"70.5\" y1=\"10.5\" y2=\"170.5\" /><line stroke-width=\"1.0\" x1=\"90.5\" x2=\"90.5\" y1=\"10.5\" y2=\"170.5\" /><line stroke-width=\"1.0\" x1=\"110.5\" x2=\"110.5\" y1=\"10.5\" y2=\"170.5\" /><line stroke-width=\"1.0\" x1=\"130.5\" x2=\"130.5\" y1=\"10.5\" y2=\"170.5\" /><line stroke-width=\"1.0\" x1=\"150.5\" x2=\"150.5\" y1=\"10.5\" y2=\"170.5\" /></g><g><text font-family=\"serif\" font-size=\"9.5\" text-anchor=\"middle\" x=\"20.5\" y=\"8\">a</text><text font-family=\"serif\" font-size=\"9.5\" text-anchor=\"middle\" x=\"40.5\" y=\"8\">b</text><text font-family=\"serif\" font-size=\"9.5\" text-anchor=\"middle\" x=\"60.5\" y=\"8\">c</text><text font-family=\"serif\" font-size=\"9.5\" text-anchor=\"middle\" x=\"80.5\" y=\"8\">d</text><text font-family=\"serif\" font-size=\"9.5\" text-anchor=\"middle\" x=\"100.5\" y=\"8\">e</text><text font-family=\"serif\" font-size=\"9.5\" text-anchor=\"middle\" x=\"120.5\" y=\"8\">f</text><text font-family=\"serif\" font-size=\"9.5\" text-anchor=\"middle\" x=\"140.5\" y=\"8\">g</text><text font-family=\"serif\" font-size=\"9.5\" text-anchor=\"middle\" x=\"160.5\" y=\"8\">h</text><text font-family=\"serif\" font-size=\"9.5\" x=\"2.5\" y=\"23.5\">1</text><text font-family=\"serif\" font-size=\"9.5\" x=\"2.5\" y=\"43.5\">2</text><text font-family=\"serif\" font-size=\"9.5\" x=\"2.5\" y=\"63.5\">3</text><text font-family=\"serif\" font-size=\"9.5\" x=\"2.5\" y=\"83.5\">4</text><text font-family=\"serif\" font-size=\"9.5\" x=\"2.5\" y=\"103.5\">5</text><text font-family=\"serif\" font-size=\"9.5\" x=\"2.5\" y=\"123.5\">6</text><text font-family=\"serif\" font-size=\"9.5\" x=\"2.5\" y=\"143.5\">7</text><text font-family=\"serif\" font-size=\"9.5\" x=\"2.5\" y=\"163.5\">8</text></g><use x=\"70.5\" xlink:href=\"#black\" y=\"50.5\" /><use x=\"70.5\" xlink:href=\"#black\" y=\"70.5\" /><use x=\"90.5\" xlink:href=\"#black\" y=\"70.5\" /><use x=\"70.5\" xlink:href=\"#black\" y=\"90.5\" /><use x=\"90.5\" xlink:href=\"#white\" y=\"90.5\" /></svg>"
          },
          "metadata": {
            "tags": []
          },
          "execution_count": 21
        }
      ]
    },
    {
      "cell_type": "markdown",
      "metadata": {
        "id": "GJMWdg8AlzAg"
      },
      "source": [
        "2.3.11"
      ]
    },
    {
      "cell_type": "code",
      "metadata": {
        "id": "jarxtDZkl0EK",
        "outputId": "faf9367b-fbb7-4185-e9cd-73d387f9ea82",
        "colab": {
          "base_uri": "https://localhost:8080/",
          "height": 242
        }
      },
      "source": [
        "import numpy as np\n",
        "\n",
        "planes = np.empty((1,2,8,8), np.float32)\n",
        "#planes = np.empty(1, np.empty((1, 2, 8, 8), dtype=np.float32), np.float32)\n",
        "\n",
        "print(planes[0])\n"
      ],
      "execution_count": 1,
      "outputs": [
        {
          "output_type": "error",
          "ename": "TypeError",
          "evalue": "ignored",
          "traceback": [
            "\u001b[0;31m---------------------------------------------------------------------------\u001b[0m",
            "\u001b[0;31mTypeError\u001b[0m                                 Traceback (most recent call last)",
            "\u001b[0;32m<ipython-input-1-d92eb97ecbe5>\u001b[0m in \u001b[0;36m<module>\u001b[0;34m()\u001b[0m\n\u001b[1;32m      2\u001b[0m \u001b[0;34m\u001b[0m\u001b[0m\n\u001b[1;32m      3\u001b[0m \u001b[0;31m#planes = np.empty((1,2,8,8), np.float32)\u001b[0m\u001b[0;34m\u001b[0m\u001b[0;34m\u001b[0m\u001b[0;34m\u001b[0m\u001b[0m\n\u001b[0;32m----> 4\u001b[0;31m \u001b[0mplanes\u001b[0m \u001b[0;34m=\u001b[0m \u001b[0mnp\u001b[0m\u001b[0;34m.\u001b[0m\u001b[0mempty\u001b[0m\u001b[0;34m(\u001b[0m\u001b[0;36m1\u001b[0m\u001b[0;34m,\u001b[0m \u001b[0mnp\u001b[0m\u001b[0;34m.\u001b[0m\u001b[0mempty\u001b[0m\u001b[0;34m(\u001b[0m\u001b[0;34m(\u001b[0m\u001b[0;36m1\u001b[0m\u001b[0;34m,\u001b[0m \u001b[0;36m2\u001b[0m\u001b[0;34m,\u001b[0m \u001b[0;36m8\u001b[0m\u001b[0;34m,\u001b[0m \u001b[0;36m8\u001b[0m\u001b[0;34m)\u001b[0m\u001b[0;34m,\u001b[0m \u001b[0mdtype\u001b[0m\u001b[0;34m=\u001b[0m\u001b[0mnp\u001b[0m\u001b[0;34m.\u001b[0m\u001b[0mfloat32\u001b[0m\u001b[0;34m)\u001b[0m\u001b[0;34m,\u001b[0m \u001b[0mnp\u001b[0m\u001b[0;34m.\u001b[0m\u001b[0mfloat32\u001b[0m\u001b[0;34m)\u001b[0m\u001b[0;34m\u001b[0m\u001b[0;34m\u001b[0m\u001b[0m\n\u001b[0m\u001b[1;32m      5\u001b[0m \u001b[0;34m\u001b[0m\u001b[0m\n\u001b[1;32m      6\u001b[0m \u001b[0mprint\u001b[0m\u001b[0;34m(\u001b[0m\u001b[0mplanes\u001b[0m\u001b[0;34m[\u001b[0m\u001b[0;36m0\u001b[0m\u001b[0;34m]\u001b[0m\u001b[0;34m)\u001b[0m\u001b[0;34m\u001b[0m\u001b[0;34m\u001b[0m\u001b[0m\n",
            "\u001b[0;31mTypeError\u001b[0m: data type not understood"
          ]
        }
      ]
    }
  ]
}